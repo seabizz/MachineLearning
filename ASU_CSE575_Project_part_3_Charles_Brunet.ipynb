{
  "nbformat": 4,
  "nbformat_minor": 0,
  "metadata": {
    "colab": {
      "name": "ASU_CSE575_Project_part_3_Charles_Brunet.ipynb",
      "provenance": [],
      "toc_visible": true,
      "include_colab_link": true
    },
    "kernelspec": {
      "name": "python3",
      "display_name": "Python 3"
    }
  },
  "cells": [
    {
      "cell_type": "markdown",
      "metadata": {
        "id": "view-in-github",
        "colab_type": "text"
      },
      "source": [
        "<a href=\"https://colab.research.google.com/github/seabizz/MachineLearning/blob/master/ASU_CSE575_Project_part_3_Charles_Brunet.ipynb\" target=\"_parent\"><img src=\"https://colab.research.google.com/assets/colab-badge.svg\" alt=\"Open In Colab\"/></a>"
      ]
    },
    {
      "cell_type": "code",
      "metadata": {
        "id": "s8SAKLYoiRQ4",
        "colab_type": "code",
        "colab": {}
      },
      "source": [
        "import scipy.io\n",
        "\n",
        "train_0_data = scipy.io.loadmat(\"train_0_img.mat\") \n",
        "train_1_data =scipy.io.loadmat(\"train_1_img.mat\")\n",
        "test_0_data  =scipy.io.loadmat(\"test_0_img.mat\")\n",
        "test_1_data  =scipy.io.loadmat(\"test_1_img.mat\")"
      ],
      "execution_count": 0,
      "outputs": []
    },
    {
      "cell_type": "code",
      "metadata": {
        "id": "U0QSiH9am4NT",
        "colab_type": "code",
        "colab": {}
      },
      "source": [
        "import pandas as pd\n",
        "import numpy as np\n",
        "import math\n",
        "\n",
        "%matplotlib inline\n",
        "import matplotlib\n",
        "import matplotlib.pyplot as plt"
      ],
      "execution_count": 0,
      "outputs": []
    },
    {
      "cell_type": "code",
      "metadata": {
        "id": "R4KgTmYZm8Vl",
        "colab_type": "code",
        "outputId": "6796bdab-2a72-4985-b6a9-66ad634bb831",
        "colab": {
          "base_uri": "https://localhost:8080/",
          "height": 34
        }
      },
      "source": [
        "train_1_data['target_img'].shape"
      ],
      "execution_count": 0,
      "outputs": [
        {
          "output_type": "execute_result",
          "data": {
            "text/plain": [
              "(28, 28, 6742)"
            ]
          },
          "metadata": {
            "tags": []
          },
          "execution_count": 4
        }
      ]
    },
    {
      "cell_type": "code",
      "metadata": {
        "id": "ZONNe2a4m--E",
        "colab_type": "code",
        "colab": {}
      },
      "source": [
        "train_0_img=np.swapaxes(np.swapaxes(train_0_data['target_img'],2,0),1,2)\n",
        "train_1_img=np.swapaxes(np.swapaxes(train_1_data['target_img'],2,0),1,2)\n",
        "test_0_img=np.swapaxes(np.swapaxes(test_0_data['target_img'],2,0),1,2)\n",
        "test_1_img=np.swapaxes(np.swapaxes(test_1_data['target_img'],2,0),1,2)"
      ],
      "execution_count": 0,
      "outputs": []
    },
    {
      "cell_type": "code",
      "metadata": {
        "id": "mW8tM3O9nD-k",
        "colab_type": "code",
        "outputId": "75651717-550a-42d0-e521-8c61cb99e943",
        "colab": {
          "base_uri": "https://localhost:8080/",
          "height": 34
        }
      },
      "source": [
        "train_0_img.shape"
      ],
      "execution_count": 0,
      "outputs": [
        {
          "output_type": "execute_result",
          "data": {
            "text/plain": [
              "(5923, 28, 28)"
            ]
          },
          "metadata": {
            "tags": []
          },
          "execution_count": 6
        }
      ]
    },
    {
      "cell_type": "code",
      "metadata": {
        "id": "_Ba3JoSPnEUF",
        "colab_type": "code",
        "colab": {}
      },
      "source": [
        "print(train_0_img[0])"
      ],
      "execution_count": 0,
      "outputs": []
    },
    {
      "cell_type": "code",
      "metadata": {
        "id": "udn1x4ednEQy",
        "colab_type": "code",
        "outputId": "9b317043-fe37-4d50-ca3a-9511e2302db1",
        "colab": {
          "base_uri": "https://localhost:8080/",
          "height": 265
        }
      },
      "source": [
        "plt.imshow((train_0_img[0].reshape(28,28)), cmap = matplotlib.cm.binary, interpolation=\"nearest\")\n",
        "plt.axis(\"off\")\n",
        "plt.show()"
      ],
      "execution_count": 0,
      "outputs": [
        {
          "output_type": "display_data",
          "data": {
            "image/png": "[encoded data removed]",
            "text/plain": [
              "<Figure size 432x288 with 1 Axes>"
            ]
          },
          "metadata": {
            "tags": []
          }
        }
      ]
    },
    {
      "cell_type": "code",
      "metadata": {
        "id": "3WEAmFO3nENx",
        "colab_type": "code",
        "outputId": "e7907752-5446-41a4-aa8b-38292588ad4a",
        "colab": {
          "base_uri": "https://localhost:8080/",
          "height": 265
        }
      },
      "source": [
        "plt.imshow((train_1_img[0].reshape(28,28)), cmap = matplotlib.cm.binary, interpolation=\"nearest\")\n",
        "plt.axis(\"off\")\n",
        "plt.show()"
      ],
      "execution_count": 0,
      "outputs": [
        {
          "output_type": "display_data",
          "data": {
            "image/png": "[encoded data removed]",
            "text/plain": [
              "<Figure size 432x288 with 1 Axes>"
            ]
          },
          "metadata": {
            "tags": []
          }
        }
      ]
    },
    {
      "cell_type": "code",
      "metadata": {
        "id": "MprltzZfnEJW",
        "colab_type": "code",
        "colab": {}
      },
      "source": [
        ""
      ],
      "execution_count": 0,
      "outputs": []
    }
  ]
}